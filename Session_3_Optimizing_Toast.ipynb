{
  "nbformat": 4,
  "nbformat_minor": 0,
  "metadata": {
    "colab": {
      "provenance": [],
      "authorship_tag": "ABX9TyPnpYrVCzxB4I0mjfTHyMfV",
      "include_colab_link": true
    },
    "kernelspec": {
      "name": "python3",
      "display_name": "Python 3"
    },
    "language_info": {
      "name": "python"
    }
  },
  "cells": [
    {
      "cell_type": "markdown",
      "metadata": {
        "id": "view-in-github",
        "colab_type": "text"
      },
      "source": [
        "<a href=\"https://colab.research.google.com/github/conuko/AI-Guild/blob/main/Session_3_Optimizing_Toast.ipynb\" target=\"_parent\"><img src=\"https://colab.research.google.com/assets/colab-badge.svg\" alt=\"Open In Colab\"/></a>"
      ]
    },
    {
      "cell_type": "code",
      "execution_count": 2,
      "metadata": {
        "id": "FhkkI0Ff9y1Q"
      },
      "outputs": [],
      "source": [
        "################################################################################\n",
        "# Problem Setup: You want the perfect bread\n",
        "# What influences this?\n",
        "#  - how long do you toast it?\n",
        "#  - how long after toasting do you eat the bread?\n",
        "#  - Do you have power? And how much? \n",
        "#  - Which toaster do you use?\n",
        "################################################################################\n",
        "\n",
        "import math"
      ]
    },
    {
      "cell_type": "code",
      "source": [
        "################################################################################\n",
        "# the function you are supposed to optimize.\n",
        "# It has the following input:\n",
        "#  toast_duration: duration of toasting in seconds. It is supposed to be an integer between 1 and 100\n",
        "#  wait_duration: duration of waiting after toasting in seconds. It's supposed to be an integer between 1 and 100\n",
        "#  toaster: the number of the toaster you want to use. It's supposed to be an integer, between 1 and 10.\n",
        "#  power: how much power the toaster has (it's supposed to be a floating point number between 0 and 2)\n",
        "################################################################################\n",
        "def utility(toast_duration, wait_duration, power = 1.0,toaster = 1):\n",
        "    # handle input errors\n",
        "    if (not type(toast_duration) is int) and not (1 <= toast_duration <= 100):\n",
        "        raise ValueError(\"toast_duration is not an integer\")\n",
        "    if (not type(wait_duration) is int) and not (1 <= wait_duration <= 100):\n",
        "        raise ValueError(\"wait_duration is not an integer\")\n",
        "    if (not type(toaster) is int) and not (1 <= toaster <= 10):\n",
        "        raise ValueError(\"toaster is not an integer or is not in a valid range\")\n",
        "    if (not type(power) is float) and not (0.0 <= power <= 2.0):\n",
        "        raise ValueError(\"power is not a float or not in the valid range\")\n",
        "\n",
        "    # get toaster specific configuration\n",
        "    hpt = [10,8,15,7,9,2,9,19,92,32][toaster-1]\n",
        "    hpw = [1,4,19,3,20,3,1,4,1,62][toaster-1]\n",
        "    toaster_utility = [1,0.9,0.7,1.3,0.3,0.8,0.5,0.8,3,0.2][toaster-1]\n",
        "\n",
        "    # calculate values\n",
        "    toast_utility = -0.1*(toast_duration-hpt)**2+1\n",
        "    wait_utility = -0.01*(wait_duration-hpw)**2+1\n",
        "    overall_utility = (toast_utility + wait_utility) * toaster_utility\n",
        "\n",
        "    # apply modifier based on electricity\n",
        "    power_factor = math.sin(10*power+math.pi/2 -10) + power*0.2\n",
        "    overall_utility *= power_factor\n",
        "\n",
        "    return overall_utility"
      ],
      "metadata": {
        "id": "tuafvZO7-KHO"
      },
      "execution_count": 3,
      "outputs": []
    },
    {
      "cell_type": "code",
      "source": [
        "################################################################################\n",
        "# Writing this function is your homework. \n",
        "# The function should return the tuple of parameters that optmizes the function.\n",
        "# \n",
        "# You can implement it in multiple difficulty levels:\n",
        "# easy: \n",
        "#     - implement it with only two parameters: toast_duration and wait_duration\n",
        "#     - e.g., utility(2,3)\n",
        "#     - Implement the function by testing all possible values for these variables.\n",
        "#     - (This state space has only 10000 values, so it shouldn't take too long)\n",
        "#\n",
        "# medium: \n",
        "#    - same as easy, but implement hill climbing\n",
        "#    - see pseudo code\n",
        "# hard: \n",
        "#    - also use the parameter power\n",
        "#    - e.g., utility(2,3,1.2)\n",
        "#    - this introduces the following complications:\n",
        "#        - multiple maxima\n",
        "#        - a continuous parameter\n",
        "#    - implement gradient ascent\n",
        "# very hard:\n",
        "#    - Same as hard, but use repeated search to find all maxima. \n",
        "#    - repeated search: \n",
        "#        - apply gradient descent from different starting points.\n",
        "#    - I think there are 5 maxima. But I'm not sure :-P\n",
        "# prepare to cry:\n",
        "#    - find the optimum for all four parameters\n",
        "#    - define your own algorithm!\n",
        "def find_maximum():\n",
        "    # TODO: Implement an optimization algorithm. Tip: (1,1) is not the optimum!\n",
        "    return (1,1)"
      ],
      "metadata": {
        "id": "Qrafi6cP-O2X"
      },
      "execution_count": 4,
      "outputs": []
    },
    {
      "cell_type": "code",
      "source": [
        "# use the function and see what it thinks the optimum is\n",
        "optimum = find_maximum()\n",
        "print(\"Optimum:\",optimum,)\n",
        "print(\"value:\",utility(*optimum))"
      ],
      "metadata": {
        "colab": {
          "base_uri": "https://localhost:8080/"
        },
        "id": "nIwQpikT-VHM",
        "outputId": "1188263b-e742-4e81-89af-9c5eec030658"
      },
      "execution_count": 5,
      "outputs": [
        {
          "output_type": "stream",
          "name": "stdout",
          "text": [
            "Optimum: (1, 1)\n",
            "value: -7.319999999999999\n"
          ]
        }
      ]
    },
    {
      "cell_type": "code",
      "source": [],
      "metadata": {
        "id": "ffDyp8p1-Xd1"
      },
      "execution_count": null,
      "outputs": []
    }
  ]
}